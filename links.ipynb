{
 "cells": [
  {
   "cell_type": "markdown",
   "metadata": {},
   "source": [
    "https://x.com/ChennaiIPL   117407834\n",
    "https://x.com/DelhiCapitals    176888549\n",
    "https://x.com/RCBTweets      70931004\n",
    "https://x.com/mipaltan    106345557\n",
    "https://x.com/SunRisers  989137039\n",
    "https://x.com/PunjabKingsIPL  30631766\n",
    "https://x.com/KKRiders  23592970\n",
    "https://x.com/gujarat_titans  1476438846988427265\n",
    "https://x.com/LucknowIPL    4824087681\n",
    "https://x.com/rajasthanroyals    17082958\n",
    "\n",
    "blogs, news posts, espn, and more\n",
    "player vs player stats, buzz going on\n",
    "save the current team to make changes later"
   ]
  }
 ],
 "metadata": {
  "language_info": {
   "name": "python"
  }
 },
 "nbformat": 4,
 "nbformat_minor": 2
}
